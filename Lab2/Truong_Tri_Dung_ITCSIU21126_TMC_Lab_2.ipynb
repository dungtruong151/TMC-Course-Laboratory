{
  "cells": [
    {
      "cell_type": "markdown",
      "metadata": {
        "id": "6SwyLqdwv4jt"
      },
      "source": [
        "1. Determine the positive real root of $f(x) = {-26} + 85x -91{x^2} + 44{x^3} -8{x^4} + {x^5}$:\n",
        "\n",
        "> (a) using the bisection method to determine the root to $\\epsilon_s = 10\\%$\n",
        "\n",
        "> (b) using the false-position method and $\\epsilon_s = 0.2\\%$.\n",
        "\n",
        ">Employ initial guesses of $x_1 = 0.5$ and $x_u = 1.0$\n",
        "\n",
        "\n",
        "\n",
        "\n"
      ]
    },
    {
      "cell_type": "code",
      "execution_count": 2,
      "metadata": {
        "id": "gW7u0Jecvuhw",
        "colab": {
          "base_uri": "https://localhost:8080/"
        },
        "outputId": "c4787c08-a65b-4fd5-e698-e53829b090cb"
      },
      "outputs": [
        {
          "output_type": "stream",
          "name": "stdout",
          "text": [
            "Using Bisection:\n",
            "Iteration               Lower               Upper          x_midpoint         f(l)*f(mid)                E(a)\n",
            "0                       0.5000              1.0000         0.7500             -3.4503                    33.3333\n",
            "1                       0.5000              0.7500         0.6250             -1.4564                    20.0000\n",
            "2                       0.5000              0.6250         0.5625             -0.1292                    11.1111\n",
            "3                       0.5000              0.5625         0.5312              0.6389                     5.8824\n",
            "The real root:\n",
            "0.53125\n",
            "\n",
            "\n",
            "Using False-position:\n",
            "Iteration               Lower               Upper          CurrApprox                E(a)\n",
            "0                       0.5000              1.0000         0.5980                    67.2269\n",
            "1                       0.5000              0.5980         0.5606                     6.6615\n",
            "2                       0.5000              0.5606         0.5573                     0.5930\n",
            "3                       0.5000              0.5573         0.5571                     0.0513\n",
            "The real root:\n",
            "0.5570524891021983\n"
          ]
        }
      ],
      "source": [
        "#Truong Tri Dung - ITCSIU21126\n",
        "import math\n",
        "\n",
        "def f(x):\n",
        "    return -26+85*x-91*x**2+44*x**3-8*x**4+x**5\n",
        "\n",
        "def bisection(xl,xu,xrold,count):\n",
        "    es=10.0\n",
        "    xrnew=(xl+xu)/2\n",
        "    ea=math.fabs((xrnew-xrold)/xrnew)*100\n",
        "    print(\"%d%29.4f%20.4f%15.4f%20.4f%27.4f\" % (count, xl, xu,xrnew,f(xl)*f(xrnew),ea))\n",
        "    if ea<es:\n",
        "        print(\"The real root:\")\n",
        "        return xrnew\n",
        "    else:\n",
        "        if f(xl)*f(xrnew)<0:\n",
        "            return bisection(xl,xrnew,xrnew,count+1)\n",
        "        if f(xl)*f(xrnew)>0:\n",
        "            return bisection(xrnew,xu,xrnew,count+1)\n",
        "        if f(xl)*f(xrnew)==0:\n",
        "            print(\"The real root:\")\n",
        "            return xrnew\n",
        "\n",
        "def false_position(xl,xu,xrold,count):\n",
        "    es=0.2\n",
        "    xrnew=(xl*f(xu)-xu*f(xl))/(f(xu)-f(xl))\n",
        "    ea=math.fabs((xrnew-xrold)/xrnew)*100\n",
        "    print(\"%d%29.4f%20.4f%15.4f%27.4f\" % (count, xl, xu,xrnew,ea))\n",
        "    if ea<es:\n",
        "        print(\"The real root:\")\n",
        "        return xrnew\n",
        "    else:\n",
        "        if f(xrnew)<0:\n",
        "            return false_position(xrnew,xu,xrnew,count+1)\n",
        "        if f(xrnew)>0:\n",
        "            return false_position(xl,xrnew,xrnew,count+1)\n",
        "        if f(xrnew)==0:\n",
        "            print(\"The real root:\")\n",
        "            return xrnew\n",
        "\n",
        "print(\"Using Bisection:\")\n",
        "print(\"%s%20s%20s%20s%20s%20s\" % (\"Iteration\", \"Lower\", \"Upper\",\"x_midpoint\",\"f(l)*f(mid)\",\"E(a)\"))\n",
        "print(bisection(0.5,1.0,1.0,0))\n",
        "print(\"\\n\")\n",
        "print(\"Using False-position:\")\n",
        "print(\"%s%20s%20s%20s%20s\" % (\"Iteration\", \"Lower\", \"Upper\",\"CurrApprox\",\"E(a)\"))\n",
        "print(false_position(0.5,1.0,1.0,0))"
      ]
    },
    {
      "cell_type": "markdown",
      "metadata": {
        "id": "i-AYYPkWEXZo"
      },
      "source": [
        "2. Determine the roots of the following simultaneous nonlinear equations:\n",
        "> $y = −x^2 + x + 0.75$\n",
        ">\n",
        "> $y + 5xy = x^2$\n",
        "\n",
        ">Employ initial guesses of $x = y = 1.2$ and:\n",
        ">>a. using fixed-point iteration\n",
        ">>\n",
        ">>b. using the Newton-Raphson method"
      ]
    },
    {
      "cell_type": "code",
      "execution_count": 3,
      "metadata": {
        "colab": {
          "base_uri": "https://localhost:8080/"
        },
        "id": "38r_TsUTEX7s",
        "outputId": "240d3a95-7966-4ffd-9c44-5a6514c6c411"
      },
      "outputs": [
        {
          "output_type": "stream",
          "name": "stdout",
          "text": [
            "Using Fixed-point iteration:\n",
            "Iteration                  xi                       yi\n",
            "1                      0.040000                 0.788400\n",
            "2                     -0.199594                 0.510568\n",
            "3                     -0.184395                 0.531604\n",
            "4                     -0.187208                 0.527745\n",
            "5                     -0.186718                 0.528418\n",
            "6                     -0.186804                 0.528300\n",
            "7                     -0.186789                 0.528320\n",
            "(-0.186789,0.528320)\n",
            "\n",
            "\n",
            "Using Newton-Raphson:\n",
            "Iteration                  xi                  yi                    RelativeApproxErrorX          RelativeApproxErrorY\n",
            "0                      1.543548                 0.029032                 0.222571                40.333333\n",
            "1                      1.394123                 0.222872                 0.107182                 0.869736\n",
            "2                      1.372455                 0.239293                 0.015788                 0.068621\n",
            "(1.372455,0.239293)\n"
          ]
        }
      ],
      "source": [
        "#Truong Tri Dung - ITCSIU21126\n",
        "import math\n",
        "\n",
        "from numpy import fix\n",
        "\n",
        "def fx(x,y):\n",
        "    return (x*x-y)/(5*y)\n",
        "def fy(x,y):\n",
        "    return -x*x+x+0.75\n",
        "\n",
        "def fixed_point(x,y,count):\n",
        "    es=0.02\n",
        "    eax=math.fabs((fx(x,y)-x)/fx(x,y))*100\n",
        "    x=fx(x,y)\n",
        "    eay=math.fabs((fy(x,y)-y)/fy(x,y))*100\n",
        "    print(\"%d%30f%25f\" % (count, x, fy(x,y)))\n",
        "    if (eax<es) and (eay<es):\n",
        "        print(\"(%f,%f)\"%(x,fy(x,y)))\n",
        "        return 0\n",
        "    else:\n",
        "        fixed_point(x,fy(x,y),count+1)\n",
        "\n",
        "def dux(x,y):\n",
        "    return 2*x-1\n",
        "def duy(x,y):\n",
        "    return 1\n",
        "def dvx(x,y):\n",
        "    return 2*x-5*y\n",
        "def dvy(x,y):\n",
        "    return -1-5*x\n",
        "def u(x,y):\n",
        "    return x*x-x-0.75+y\n",
        "def v(x,y):\n",
        "    return x*x-y-5*x*y\n",
        "\n",
        "def Newton_Raphson(x,y,count):\n",
        "    determinant=dux(x,y)*dvy(x,y)-duy(x,y)*dvx(x,y)\n",
        "    es=0.2\n",
        "    xnew=x-(u(x,y)*dvy(x,y)-v(x,y)*duy(x,y))/determinant\n",
        "    eax=math.fabs((xnew-x)/xnew)\n",
        "    ynew=y-(v(x,y)*dux(x,y)-u(x,y)*dvx(x,y))/determinant\n",
        "    eay=math.fabs((ynew-y)/ynew)\n",
        "    print(\"%d%30f%25f%25f%25f\" % (count, xnew,ynew, eax, eay))\n",
        "    if (eax<es) and (eay<es):\n",
        "        print(\"(%f,%f)\"%(xnew,ynew))\n",
        "        return 0\n",
        "    else:\n",
        "        Newton_Raphson(xnew,ynew,count+1)\n",
        "\n",
        "print(\"Using Fixed-point iteration:\")\n",
        "print(\"%s%20s%25s\" % (\"Iteration\", \"xi\", \"yi\"))\n",
        "fixed_point(1.2,1.2,1)\n",
        "print(\"\\n\")\n",
        "print(\"Using Newton-Raphson:\")\n",
        "print(\"%s%20s%20s%40s%30s\" % (\"Iteration\", \"xi\", \"yi\",\"RelativeApproxErrorX\",\"RelativeApproxErrorY\"))\n",
        "Newton_Raphson(1.2,1.2,0)"
      ]
    }
  ],
  "metadata": {
    "colab": {
      "provenance": [],
      "collapsed_sections": []
    },
    "kernelspec": {
      "display_name": "Python 3",
      "name": "python3"
    },
    "language_info": {
      "name": "python"
    }
  },
  "nbformat": 4,
  "nbformat_minor": 0
}