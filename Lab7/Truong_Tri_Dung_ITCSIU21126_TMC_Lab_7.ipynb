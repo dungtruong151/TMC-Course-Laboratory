{
  "cells": [
    {
      "cell_type": "markdown",
      "metadata": {
        "id": "6aKMJOBDRoTr"
      },
      "source": [
        "1. Develop a user-friendly computer program for Gauss quadrature. Test it by\n",
        "using the following function:\n",
        "\n",
        "$$\\int_0^1 x^{0.1}(1.2 - x)(1 - e^{20(x-1)}) \\,dx$$\n",
        "\n",
        ">If necessary, the true value is 0.602298."
      ]
    },
    {
      "cell_type": "code",
      "execution_count": 1,
      "metadata": {
        "colab": {
          "base_uri": "https://localhost:8080/",
          "height": 213
        },
        "id": "HkbJtfRSIH7S",
        "outputId": "103c9f53-060e-432b-e1ca-a2b1ffbe72f7"
      },
      "outputs": [
        {
          "name": "stdout",
          "output_type": "stream",
          "text": [
            "The integration by Gauss Quadrature:  0.602298396396365\n",
            "The true error:  6.58139932316688e-05\n"
          ]
        },
        {
          "data": {
            "image/png": "[encoded data removed]",
            "text/plain": [
              "<Figure size 432x288 with 1 Axes>"
            ]
          },
          "metadata": {
            "needs_background": "light"
          },
          "output_type": "display_data"
        }
      ],
      "source": [
        "#Truong Tri Dung - ITCSIU21126\n",
        "import math\n",
        "import numpy as np\n",
        "import matplotlib.pyplot as p\n",
        "\n",
        "def x(xd,a,b):\n",
        "    a0=(b+a)/2\n",
        "    a1=(b-a)/2\n",
        "    return a0+a1*xd\n",
        "\n",
        "def f(x,a,b):\n",
        "    a1=(b-a)/2\n",
        "    return pow(x,0.1)*(1.2-x)*(1-pow(np.e,20*(x-1)))*a1\n",
        "    #return (0.2+25*x-200*pow(x,2)+675*pow(x,3)-900*pow(x,4)+400*pow(x,5))*a1\n",
        "\n",
        "l = []\n",
        "def GaussQuadra(n):\n",
        "    i=0\n",
        "    h=(1-0)/n\n",
        "    I=0\n",
        "    while (i<1):\n",
        "        l.append(I)\n",
        "        I=I+f(x(-0.5773502692,i,i+h),i,i+h)+f(x(0.5773502692,i,i+h),i,i+h)\n",
        "        i+=h\n",
        "    return I\n",
        "\n",
        "I_true=0.602298\n",
        "I_estimated=GaussQuadra(10000)\n",
        "print(\"The integration by Gauss Quadrature: \",I_estimated)\n",
        "print(\"The true error: \",abs(I_true-I_estimated)/I_true*100)\n",
        "fig = p.figure()\n",
        "ax1 = fig.add_subplot(211)\n",
        "ax1.plot(l)\n",
        "ax1.set_xlabel('x')\n",
        "ax1.set_ylabel('I(x)')\n",
        "ax1.title.set_text(\"Gauss Quadrature\")\n",
        "p.show()"
      ]
    },
    {
      "cell_type": "markdown",
      "metadata": {
        "id": "VMPAGa6CRqed"
      },
      "source": [
        "2. Develop a user-friendly program to apply a Romberg algorithm to estimate\n",
        "the derivative of a given function. Test it by using the following function:\n",
        "\n",
        "$$f(x) = 5e^{-2x}x$$"
      ]
    },
    {
      "cell_type": "code",
      "execution_count": null,
      "metadata": {
        "id": "XcoTKci5xGu2"
      },
      "outputs": [
        {
          "ename": "",
          "evalue": "",
          "output_type": "error",
          "traceback": [
            "\u001b[1;31mRunning cells with 'c:\\Users\\Truong Tri Dung\\AppData\\Local\\Programs\\Python\\Python310\\python.exe' requires ipykernel package.\n",
            "\u001b[1;31mRun the following command to install 'ipykernel' into the Python environment. \n",
            "\u001b[1;31mCommand: '\"c:/Users/Truong Tri Dung/AppData/Local/Programs/Python/Python310/python.exe\" -m pip install ipykernel -U --user --force-reinstall'"
          ]
        }
      ],
      "source": [
        "import math\n",
        "import numpy as np\n",
        "import matplotlib.pyplot as plt\n",
        "\n",
        "def f(x):\n",
        "    return 5*math.exp(-2*x)*x\n",
        "\n",
        "def derivative_f(x):\n",
        "    return 5 * np.exp(-2*x) - 10 * x * np.exp(-2*x)\n",
        "def Romberg_Integration(f,x):\n",
        "    h = 1\n",
        "    d1 = (f(x + h) - f(x)) / h \n",
        "    while True:\n",
        "        h/=2\n",
        "        d2 = d1\n",
        "        d1 = (f(x + h) - f(x)) / h \n",
        "        if abs(d1 - d2) < np.exp(-6):\n",
        "            return d1\n",
        "\n",
        "def Graph(f, array):\n",
        "    a = []\n",
        "    for i in range(len(array)):\n",
        "        t = Romberg_Integration(f,array[i])\n",
        "        a.append(t)\n",
        "    print(\"The derivative of f(x) at \",array[-1],\" is: \", a[-1])\n",
        "    print(\"The true error is: \", abs(derivative_f(array[-1] - a[-1])))\n",
        "    return a \n",
        "\n",
        "\n",
        "x = np.linspace(0,3,100)\n",
        "a = Graph(f,x)\n",
        "plt.plot(x, a)\n",
        "plt.xlabel('x')\n",
        "plt.ylabel('R(x)')\n",
        "plt.title('Romberg Integration')\n",
        "plt.show()"
      ]
    }
  ],
  "metadata": {
    "colab": {
      "provenance": []
    },
    "kernelspec": {
      "display_name": "Python 3",
      "language": "python",
      "name": "python3"
    },
    "language_info": {
      "name": "python",
      "version": "3.10.0 (tags/v3.10.0:b494f59, Oct  4 2021, 19:00:18) [MSC v.1929 64 bit (AMD64)]"
    },
    "vscode": {
      "interpreter": {
        "hash": "96f82a619d8703e8a2194e3ddd2aa0412395aa42da214edcd46cb5c5058c23fe"
      }
    }
  },
  "nbformat": 4,
  "nbformat_minor": 0
}
