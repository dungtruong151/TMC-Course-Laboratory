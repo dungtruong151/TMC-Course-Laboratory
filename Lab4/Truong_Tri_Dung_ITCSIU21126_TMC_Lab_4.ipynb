{
  "nbformat": 4,
  "nbformat_minor": 0,
  "metadata": {
    "colab": {
      "provenance": []
    },
    "kernelspec": {
      "name": "python3",
      "display_name": "Python 3"
    },
    "language_info": {
      "name": "python"
    }
  },
  "cells": [
    {
      "cell_type": "markdown",
      "source": [
        "1. Develop a program to implement the Newton’s method. Design the program\n",
        "so that it is expressly designed to locate a maximum. The subroutine should have\n",
        "the following features:\n",
        "*   Iterate until the relative error falls below a stopping criterion or exceeds a maximum number of iterations.\n",
        "*   Return both the optimal x and f (x).\n",
        "\n",
        ">Test your program with the formula:\n",
        "\n",
        ">$𝑓(𝑥) = −𝑥^2 + 8x - 12 $\n",
        "\n"
      ],
      "metadata": {
        "id": "THnJcoEelON5"
      }
    },
    {
      "cell_type": "code",
      "execution_count": 1,
      "metadata": {
        "id": "_82un9MSlLJ3",
        "colab": {
          "base_uri": "https://localhost:8080/"
        },
        "outputId": "c2b0b1a6-f9e4-4173-9543-ee14e78f8c08"
      },
      "outputs": [
        {
          "output_type": "stream",
          "name": "stdout",
          "text": [
            "Iteration                   x                f(x)               f'(x)              f''(x)                  ea\n",
            "        0            -4.00000           -60.00000            16.00000            -2.00000           200.00000\n",
            "        1             4.00000             4.00000             0.00000            -2.00000             0.00000\n"
          ]
        }
      ],
      "source": [
        "#Truong Tri Dung - ITCSIU21126\n",
        "import math\n",
        "\n",
        "def f(x):\n",
        "    return -x**2+8*x-12\n",
        "\n",
        "def g(x):\n",
        "    return -2*x+8\n",
        "\n",
        "def h(x):\n",
        "    return -2\n",
        "\n",
        "def newton_method(iteration,x):\n",
        "    x_new = x-g(x)/h(x)\n",
        "    ea = abs((x_new - x)/x_new)*100\n",
        "    print(\"%9d%20.5f%20.5f%20.5f%20.5f%20.5f\" % (iteration, x, f(x), g(x), h(x), ea))\n",
        "    if (ea > 1) and (iteration < 100):\n",
        "        newton_method(iteration+1,x_new)\n",
        "        \n",
        "\n",
        "print(\"%s%20s%20s%20s%20s%20s\" % (\"Iteration\", \"x\", \"f(x)\", \"f'(x)\",\"f''(x)\", \"ea\"))\n",
        "x0=-4\n",
        "newton_method(0,x0)"
      ]
    },
    {
      "cell_type": "markdown",
      "source": [
        "2. Find the minimum value of:\n",
        "\n",
        ">$ f(x, y) = (x − 3)^2 + (y - 2)^2 $\n",
        "\n",
        ">starting at x = 1 and y = 1, using the steepest descent method with a stopping\n",
        "criterion of $ ϵ_s $ = 1%."
      ],
      "metadata": {
        "id": "NsjBXKNXmg1K"
      }
    },
    {
      "cell_type": "code",
      "source": [
        "#Truong Tri Dung - ITCSIU21126\n",
        "import math\n",
        "\n",
        "'''\n",
        "g(h) = f(x0 + dfx(x,y)*h, y0 + dfy(x,y)*h) = f(x0 + 2*(x0-3)*h, y0 + 2*(y0-2)*h) = (x0 + 2*(x0-3)*h - 3)**2 + (y0 + 2*(y0-2)*h - 2)**2\n",
        "     = (x0 - 3)**2 * (1+2h)**2 + (y0 - 2)**2 * (1+2h)**2 = f(x0,y0) * (1+2h)**2\n",
        "    \n",
        "g'(h)=0 <=> h = -1/2\n",
        "'''\n",
        "h=-0.5\n",
        "\n",
        "def f(x,y):\n",
        "    return (x-3)**2+(y-2)**2\n",
        "\n",
        "def dfx(x,y):\n",
        "    return 2*(x-3)\n",
        "\n",
        "def dfy(x,y):\n",
        "    return 2*(y-2)\n",
        "\n",
        "def steepest_descent_method(iteration,x,y):\n",
        "    x_new = x+dfx(x,y)*h\n",
        "    y_new = y+dfy(x,y)*h\n",
        "    eax = abs((x_new - x)/x_new)*100\n",
        "    eay = abs((y_new - y)/y_new)*100\n",
        "    print(\"%9d%20.5f%20.5f%20.5f%20.5f%20.5f\" % (iteration, x, y, f(x,y), eax, eay))\n",
        "    if (eax > 1) and (eay > 1) and (iteration < 100):\n",
        "        steepest_descent_method(iteration+1,x_new,y_new)\n",
        "        \n",
        "print(\"%s%20s%20s%20s%20s\" % (\"Iteration\", \"x\", \"y\", \"f(x,y)\", \"ea\"))\n",
        "x0=1\n",
        "y0=1\n",
        "steepest_descent_method(0,x0,y0)"
      ],
      "metadata": {
        "id": "ls1-Zm-dmgcP",
        "colab": {
          "base_uri": "https://localhost:8080/"
        },
        "outputId": "5096f51c-ce01-40ac-b13a-c163f92b5961"
      },
      "execution_count": 2,
      "outputs": [
        {
          "output_type": "stream",
          "name": "stdout",
          "text": [
            "Iteration                   x                   y              f(x,y)                  ea\n",
            "        0             1.00000             1.00000             5.00000            66.66667            50.00000\n",
            "        1             3.00000             2.00000             0.00000             0.00000             0.00000\n"
          ]
        }
      ]
    }
  ]
}