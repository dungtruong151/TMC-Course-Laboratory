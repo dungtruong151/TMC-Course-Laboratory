{
  "nbformat": 4,
  "nbformat_minor": 0,
  "metadata": {
    "colab": {
      "provenance": []
    },
    "kernelspec": {
      "name": "python3",
      "display_name": "Python 3"
    },
    "language_info": {
      "name": "python"
    }
  },
  "cells": [
    {
      "cell_type": "code",
      "execution_count": 1,
      "metadata": {
        "colab": {
          "base_uri": "https://localhost:8080/"
        },
        "id": "1OdGSBxHgfr6",
        "outputId": "e9440629-9bb5-4b0b-84b2-b81e8f1ab5e5"
      },
      "outputs": [
        {
          "output_type": "stream",
          "name": "stdout",
          "text": [
            "Using Jacobi:\n",
            "Iteration         x1                  x2                  x3                          E(a)\n",
            "0              0.0000              0.0000              0.0000              1.0000              1.0000              1.0000\n",
            "\n",
            "1              0.7500              2.7143              2.5833              0.0456              0.2737              0.1926\n",
            "\n",
            "2              0.7173              2.1310              3.1994              0.2948              0.0383              0.0468\n",
            "\n",
            "3              1.0171              2.0523              3.0563              0.0161              0.0328              0.0148\n",
            "\n",
            "4              1.0010              1.9871              3.0116              0.0051              0.0055              0.0050\n",
            "\n",
            "\n",
            "\n",
            "Using Gauss-Seidel:\n",
            "Iteration         x1                  x2                  x3                          E(a)\n",
            "1              0.7500              2.5000              3.1458              1.0000              1.0000              1.0000\n",
            "\n",
            "2              0.9115              2.0045              2.7463              0.1771              0.2472              0.1455\n",
            "\n",
            "3              0.9355              2.0547              2.7902              0.0257              0.0244              0.0157\n",
            "\n"
          ]
        }
      ],
      "source": [
        "#Truong Tri Dung - ITCSIU21126\n",
        "import math\n",
        "\n",
        "def jacobi(k):\n",
        "    es=0.02\n",
        "    for i in range(n):\n",
        "        sum=0\n",
        "        for j in range(n):\n",
        "            if i!=j:\n",
        "                sum=sum+a[i][j]*x[j]\n",
        "        xnew[i]=1/a[i][i]*(b[i]-sum)\n",
        "    ea=[0,0,0]\n",
        "    for i in range(n):\n",
        "        ea[i]=math.fabs((xnew[i]-x[i])/xnew[i])\n",
        "    print(\"%d%20.4f%20.4f%20.4f%20.4f%20.4f%20.4f\\n\" % (k,x[0],x[1],x[2],ea[0],ea[1],ea[2]))\n",
        "    if max(ea)>es:\n",
        "        x[:]=xnew[:]\n",
        "        return jacobi(k+1)\n",
        "\n",
        "def gauss_seidel(k):\n",
        "    for i in range(n):\n",
        "        sum=0\n",
        "        for j in range(i):\n",
        "            sum=sum+a[i][j]*xnew[j]\n",
        "        if i+1<n:\n",
        "            sum1=0\n",
        "            for j in range(i+1,n):\n",
        "                sum1=sum1+a[i][j]*x[j]\n",
        "        xnew[i]=1/a[i][i]*(b[i]-sum-sum1)\n",
        "    ea=[0,0,0]\n",
        "    for i in range(n):\n",
        "        ea[i]=math.fabs((xnew[i]-x[i])/xnew[i])\n",
        "    print(\"%d%20.4f%20.4f%20.4f%20.4f%20.4f%20.4f\\n\" % (k,xnew[0],xnew[1],xnew[2],ea[0],ea[1],ea[2]))\n",
        "    if k<3:\n",
        "        x[:]=xnew[:]\n",
        "        return gauss_seidel(k+1)\n",
        "\n",
        "a=[[4,1,-1],[2,7,1],[1,-3,12]]\n",
        "b=[3,19,31]\n",
        "n=len(a)\n",
        "\n",
        "print(\"Using Jacobi:\")\n",
        "print(\"%s%11s%20s%20s%30s\" % (\"Iteration\", \"x1\", \"x2\",\"x3\",\"E(a)\"))\n",
        "x=[0,0,0]\n",
        "xnew=[0,0,0]\n",
        "jacobi(0)\n",
        "print(\"\\n\")\n",
        "print(\"Using Gauss-Seidel:\")\n",
        "print(\"%s%11s%20s%20s%30s\" % (\"Iteration\", \"x1\", \"x2\",\"x3\",\"E(a)\"))\n",
        "x=[0,0,0]\n",
        "xnew=[0,0,0]\n",
        "gauss_seidel(1)"
      ]
    }
  ]
}