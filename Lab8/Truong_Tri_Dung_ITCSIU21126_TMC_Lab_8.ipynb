{
  "nbformat": 4,
  "nbformat_minor": 0,
  "metadata": {
    "colab": {
      "provenance": []
    },
    "kernelspec": {
      "name": "python3",
      "display_name": "Python 3"
    },
    "language_info": {
      "name": "python"
    }
  },
  "cells": [
    {
      "cell_type": "markdown",
      "source": [
        "1. Given\n",
        "\n",
        "$$\\frac{dy}{dx} = -200000y + 200000e^{-x} - e^{-x} $$\n",
        "\n",
        ">Develop a program for the implicit Euler method for the above ODE to obtain\n",
        "a solution from $x=0$ to 2 using a step size of 0.1 with $y(0)=0$."
      ],
      "metadata": {
        "id": "nDDPpmHv6Ozb"
      }
    },
    {
      "cell_type": "code",
      "source": [
        "#Truong Tri Dung - ITCSIU21126\n",
        "\n",
        "import math\n",
        "import numpy as np\n",
        "import matplotlib.pyplot as p\n",
        "\n",
        "'''\n",
        "y = e^(-x) + C*e^(-200000x)\n",
        "y(0)=0 <=> C=-1\n",
        "'''\n",
        "x_euler = []\n",
        "y_euler = []\n",
        "y_real = []\n",
        "\n",
        "def yi(x):\n",
        "    return math.exp(-x) - math.exp(-200000*x)\n",
        "    #return -0.5*x**4+4*x**3-10*x**2+8.5*x+1\n",
        "\n",
        "def f(x,y):\n",
        "    return -200000*y+200000*math.exp(-x)-math.exp(-x)\n",
        "    #return -2*x**3+12*x**2-20*x+8.5\n",
        "\n",
        "def Euler_method(x,y,i):\n",
        "    if (x<2.0):\n",
        "        x_euler.append(x + h)\n",
        "        y_euler.append(y + h*f(x,y)/(1+h*200000))\n",
        "        y_real.append(yi(x+h))\n",
        "        Euler_method(x_euler[i],y_euler[i],i+1)\n",
        "\n",
        "x_euler.append(0.0)\n",
        "y_euler.append(0.0)\n",
        "y_real.append(0.0)\n",
        "h = 0.1\n",
        "Euler_method(x_euler[0],y_euler[0],1)\n",
        "\n",
        "print(\"%s\\t%s\\t\\t%s\" % (\"x\", \"y_real\", \"y_euler\"))\n",
        "for i in range(0,len(x_euler)):\n",
        "    print(\"%.1f\\t%f\\t%f \" % (x_euler[i],y_real[i],y_euler[i]))\n",
        "\n",
        "p.plot(x_euler,y_euler,'bo')\n",
        "p.plot(x_euler,y_real,'ro')\n",
        "p.legend(['euler','real'])\n",
        "p.show()"
      ],
      "metadata": {
        "id": "4yqeM5V7DFO9",
        "colab": {
          "base_uri": "https://localhost:8080/",
          "height": 664
        },
        "outputId": "fd4b9909-3371-44c4-986f-a012648b9c3a"
      },
      "execution_count": 1,
      "outputs": [
        {
          "output_type": "stream",
          "name": "stdout",
          "text": [
            "x\ty_real\t\ty_euler\n",
            "0.0\t0.000000\t0.000000 \n",
            "0.1\t0.904837\t0.999945 \n",
            "0.2\t0.818731\t0.904838 \n",
            "0.3\t0.740818\t0.818731 \n",
            "0.4\t0.670320\t0.740818 \n",
            "0.5\t0.606531\t0.670320 \n",
            "0.6\t0.548812\t0.606531 \n",
            "0.7\t0.496585\t0.548812 \n",
            "0.8\t0.449329\t0.496585 \n",
            "0.9\t0.406570\t0.449329 \n",
            "1.0\t0.367879\t0.406570 \n",
            "1.1\t0.332871\t0.367880 \n",
            "1.2\t0.301194\t0.332871 \n",
            "1.3\t0.272532\t0.301194 \n",
            "1.4\t0.246597\t0.272532 \n",
            "1.5\t0.223130\t0.246597 \n",
            "1.6\t0.201897\t0.223130 \n",
            "1.7\t0.182684\t0.201897 \n",
            "1.8\t0.165299\t0.182684 \n",
            "1.9\t0.149569\t0.165299 \n",
            "2.0\t0.135335\t0.149569 \n"
          ]
        },
        {
          "output_type": "display_data",
          "data": {
            "text/plain": [
              "<Figure size 432x288 with 1 Axes>"
            ],
            "image/png": "[encoded data removed]"
          },
          "metadata": {
            "needs_background": "light"
          }
        }
      ]
    }
  ]
}